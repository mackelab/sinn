{
 "cells": [
  {
   "cell_type": "markdown",
   "metadata": {},
   "source": [
    "# Building an integration graph\n",
    "\n",
    "This notebook walks through the steps of building the computational graph for a model's integrator.\n",
    "The basic idea is to compute all state histories forward by one time step, and then collect all the generated updates into a `scan` subgraph.\n",
    "\n",
    "This algorithm is implemented in `sinn.models.Model::advance_updates()`. For concreteness, we use the 1-variable SCS model found in the *examples* directory."
   ]
  },
  {
   "cell_type": "code",
   "execution_count": 1,
   "metadata": {},
   "outputs": [],
   "source": [
    "import numpy as np\n",
    "import theano_shim as shim\n",
    "from collections import OrderedDict\n",
    "\n",
    "import mackelab_toolbox as mtb\n",
    "import mackelab_toolbox.typing"
   ]
  },
  {
   "cell_type": "code",
   "execution_count": 7,
   "metadata": {},
   "outputs": [],
   "source": [
    "# Make code in examples directory importable\n",
    "import sys, os\n",
    "from pathlib import Path\n",
    "import sinn\n",
    "examples_dir = Path(sinn.__file__).parent.parent/'examples'\n",
    "sys.path = [str(examples_dir)] + sys.path"
   ]
  },
  {
   "cell_type": "code",
   "execution_count": 2,
   "metadata": {},
   "outputs": [],
   "source": [
    "shim.load('theano')"
   ]
  },
  {
   "cell_type": "code",
   "execution_count": 3,
   "metadata": {},
   "outputs": [],
   "source": [
    "from sinn.histories import TimeAxis\n",
    "from examples import SCS"
   ]
  },
  {
   "cell_type": "code",
   "execution_count": 4,
   "metadata": {},
   "outputs": [],
   "source": [
    "mtb.typing.freeze_types()"
   ]
  },
  {
   "cell_type": "code",
   "execution_count": 5,
   "metadata": {},
   "outputs": [],
   "source": [
    "N = 10\n",
    "params = SCS.Parameters(\n",
    "    N = N,\n",
    "    J = np.random.normal(size=(N,N)),\n",
    "    g = 1\n",
    "    )\n",
    "\n",
    "TimeAxis.time_step = np.float64(2**-6)  # Powers of 2 minimize numerical error\n",
    "time = TimeAxis(min=0, max=10)"
   ]
  },
  {
   "cell_type": "code",
   "execution_count": 6,
   "metadata": {},
   "outputs": [],
   "source": [
    "scs = SCS(time=time, params=params, initializer=np.ones(N))\n",
    "scs._curtidx_var = shim.tensor(np.array(1, dtype=scs.tidx_dtype), name='curtidx (model)')\n",
    "object.__setattr__(scs, '_stoptidx_var',\n",
    "                   shim.tensor(np.array(3, dtype=scs.tidx_dtype), name='stoptidx (model)'))"
   ]
  },
  {
   "cell_type": "markdown",
   "metadata": {},
   "source": [
    "First, declare a “anchor” time index – this will serve as the reference time point for all history updates."
   ]
  },
  {
   "cell_type": "code",
   "execution_count": 8,
   "metadata": {},
   "outputs": [],
   "source": [
    "anchor_tidx = scs._num_tidx"
   ]
  },
  {
   "cell_type": "markdown",
   "metadata": {},
   "source": [
    "Construct a substitution dictionary converting each history's current time index to the model's (anchor) time index. This works because we make sure that all unlocked histories are “synchronized” – their current `_num_tidx` all correspond to the same point in simulation time."
   ]
  },
  {
   "cell_type": "code",
   "execution_count": 9,
   "metadata": {},
   "outputs": [],
   "source": [
    "assert scs.histories_are_synchronized()\n",
    "anchor_tidx_typed = scs.time.Index(anchor_tidx)  # Do only once to keep graph as clean as possible\n",
    "tidxsubs = {h._num_tidx: anchor_tidx_typed.convert(h.time)\n",
    "            for h in scs.unlocked_histories}"
   ]
  },
  {
   "cell_type": "markdown",
   "metadata": {},
   "source": [
    "Build the update dictionary by computing each history forward by one step.\n",
    "\n",
    "Hidden in this simple line is the dependency resolution logic, which is all implemented within the `History` classes. Moreover, we remain completely agnostic as to _how_ a history updates its data – for example, for `Series`, `_sym_data` is a single array, but for `Spiketrain` it is a tuple of three arrays."
   ]
  },
  {
   "cell_type": "code",
   "execution_count": 10,
   "metadata": {},
   "outputs": [],
   "source": [
    "for h in scs.unlocked_statehists:\n",
    "    h(h._num_tidx+1)\n",
    "anchored_updates = shim.get_updates()"
   ]
  },
  {
   "cell_type": "markdown",
   "metadata": {},
   "source": [
    "Replace all the history time indices by the single anchor time index"
   ]
  },
  {
   "cell_type": "code",
   "execution_count": 11,
   "metadata": {},
   "outputs": [],
   "source": [
    "anchored_updates = {k: shim.graph.clone(g, replace=tidxsubs)\n",
    "                    for k,g in anchored_updates.items()}"
   ]
  },
  {
   "cell_type": "markdown",
   "metadata": {},
   "source": [
    "Now we construct the scan function. The update step simply “unanchors” the updates, by replacing the anchor time index by the symbolic `tidx`.\n",
    "\n",
    "**Important** Theano can get confused when the sequence variable `tidx` appears in more than one graph. To work around this, we track an explicit variable `tidxm1` (equal `tidx - 1`) instead. The `tidx` value serves only to update `tidxm1` (we could also increment `tidxm1` and do away with `tidx` complement, keeping it only an iteration counter.)\n",
    "\n",
    "There are no output variables – all the computations are done in the updates.\n",
    "Even though dictionaries are ordered in Python3.7+, Theano still emits a warning if we don't use an `OrderedDict`."
   ]
  },
  {
   "cell_type": "code",
   "execution_count": 12,
   "metadata": {},
   "outputs": [],
   "source": [
    "def onestep(tidx, tidxm1):\n",
    "    step_updates = OrderedDict(\n",
    "                    (k, shim.graph.clone(g, replace={anchor_tidx: tidxm1}))\n",
    "                    for k,g in anchored_updates.items())\n",
    "    return [tidx], step_updates"
   ]
  },
  {
   "cell_type": "markdown",
   "metadata": {},
   "source": [
    "The scan is defined by iterating over a single sequence of time indices, defined by two symbolic placeholder variables `_cur_tidxvar` and `_stopidx_var`. These will be the arguments of the final compiled function.\n",
    "\n",
    "The `tidxm1` variable is intialized by the `outputs_info` argument.\n",
    "\n",
    "We discard the outputs returned by `scan` (by assigning to `_`), since everything is in the updates."
   ]
  },
  {
   "cell_type": "code",
   "execution_count": 13,
   "metadata": {},
   "outputs": [],
   "source": [
    "_, upds = shim.scan(onestep,\n",
    "                    sequences = [shim.arange(scs._curtidx_var+1, scs._stoptidx_var,\n",
    "                    #sequences = [shim.getT().arange(-1, 8,\n",
    "                                             dtype=scs.tidx_dtype)],\n",
    "                    outputs_info = [scs._curtidx_var],\n",
    "                    name = f\"scan ({type(scs).__name__})\")"
   ]
  },
  {
   "cell_type": "markdown",
   "metadata": {},
   "source": [
    "**Note** There are still some anchored time index variables (`_num_tidx`) in the resulting `upds`, and I'm not entirely sure why. It seems it's fine to leave them there though."
   ]
  },
  {
   "cell_type": "markdown",
   "metadata": {},
   "source": [
    "Finally we can compile the update function."
   ]
  },
  {
   "cell_type": "code",
   "execution_count": 14,
   "metadata": {},
   "outputs": [],
   "source": [
    "advance = shim.graph.compile(inputs  = [scs._curtidx_var, scs._stoptidx_var],\n",
    "                             outputs = [],\n",
    "                             updates = upds)"
   ]
  },
  {
   "cell_type": "code",
   "execution_count": 15,
   "metadata": {},
   "outputs": [
    {
     "data": {
      "text/plain": [
       "array([[1., 1., 1., 1., 1., 1., 1., 1., 1., 1.],\n",
       "       [0., 0., 0., 0., 0., 0., 0., 0., 0., 0.],\n",
       "       [0., 0., 0., 0., 0., 0., 0., 0., 0., 0.],\n",
       "       [0., 0., 0., 0., 0., 0., 0., 0., 0., 0.],\n",
       "       [0., 0., 0., 0., 0., 0., 0., 0., 0., 0.],\n",
       "       [0., 0., 0., 0., 0., 0., 0., 0., 0., 0.],\n",
       "       [0., 0., 0., 0., 0., 0., 0., 0., 0., 0.],\n",
       "       [0., 0., 0., 0., 0., 0., 0., 0., 0., 0.],\n",
       "       [0., 0., 0., 0., 0., 0., 0., 0., 0., 0.],\n",
       "       [0., 0., 0., 0., 0., 0., 0., 0., 0., 0.]])"
      ]
     },
     "execution_count": 15,
     "metadata": {},
     "output_type": "execute_result"
    }
   ],
   "source": [
    "scs.h._num_data.get_value()[:10]"
   ]
  },
  {
   "cell_type": "code",
   "execution_count": 16,
   "metadata": {},
   "outputs": [
    {
     "data": {
      "text/plain": [
       "[]"
      ]
     },
     "execution_count": 16,
     "metadata": {},
     "output_type": "execute_result"
    }
   ],
   "source": [
    "advance(scs.cur_tidx, 5)"
   ]
  },
  {
   "cell_type": "code",
   "execution_count": 17,
   "metadata": {},
   "outputs": [
    {
     "data": {
      "text/plain": [
       "array([[1.        , 1.        , 1.        , 1.        , 1.        ,\n",
       "        1.        , 1.        , 1.        , 1.        , 1.        ],\n",
       "       [0.9622697 , 0.98741163, 1.01000921, 0.92892203, 0.98741345,\n",
       "        0.99398004, 0.94149194, 1.0097513 , 1.03064802, 1.00111782],\n",
       "       [0.92578224, 0.97578152, 1.02002321, 0.8601452 , 0.97455717,\n",
       "        0.98831304, 0.88458863, 1.01943653, 1.06006262, 1.00139186],\n",
       "       [0.89048657, 0.96513946, 1.03002636, 0.79369481, 0.96145926,\n",
       "        0.98299558, 0.82930135, 1.02903317, 1.08817829, 1.00083828],\n",
       "       [0.85633262, 0.95551232, 1.04000517, 0.72959197, 0.94814639,\n",
       "        0.97802277, 0.77563647, 1.03852011, 1.11493575, 0.99947376],\n",
       "       [0.82327204, 0.94692321, 1.04994867, 0.66785275, 0.93464434,\n",
       "        0.97338786, 0.7235942 , 1.04787745, 1.14028322, 0.99731575],\n",
       "       [0.        , 0.        , 0.        , 0.        , 0.        ,\n",
       "        0.        , 0.        , 0.        , 0.        , 0.        ],\n",
       "       [0.        , 0.        , 0.        , 0.        , 0.        ,\n",
       "        0.        , 0.        , 0.        , 0.        , 0.        ],\n",
       "       [0.        , 0.        , 0.        , 0.        , 0.        ,\n",
       "        0.        , 0.        , 0.        , 0.        , 0.        ],\n",
       "       [0.        , 0.        , 0.        , 0.        , 0.        ,\n",
       "        0.        , 0.        , 0.        , 0.        , 0.        ]])"
      ]
     },
     "execution_count": 17,
     "metadata": {},
     "output_type": "execute_result"
    }
   ],
   "source": [
    "scs.h._num_data.get_value()[:10]"
   ]
  },
  {
   "cell_type": "code",
   "execution_count": null,
   "metadata": {},
   "outputs": [],
   "source": []
  }
 ],
 "metadata": {
  "kernelspec": {
   "display_name": "Python (bptt_sinn)",
   "language": "python",
   "name": "bptt_sinn"
  },
  "language_info": {
   "codemirror_mode": {
    "name": "ipython",
    "version": 3
   },
   "file_extension": ".py",
   "mimetype": "text/x-python",
   "name": "python",
   "nbconvert_exporter": "python",
   "pygments_lexer": "ipython3",
   "version": "3.8.3"
  }
 },
 "nbformat": 4,
 "nbformat_minor": 4
}
