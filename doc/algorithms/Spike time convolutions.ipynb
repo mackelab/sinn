{
 "cells": [
  {
   "cell_type": "code",
   "execution_count": 1,
   "metadata": {
    "collapsed": true
   },
   "outputs": [],
   "source": [
    "import numpy as np\n",
    "from matplotlib import pyplot as plt\n",
    "%matplotlib inline"
   ]
  },
  {
   "cell_type": "markdown",
   "metadata": {},
   "source": [
    "# Objective\n",
    "$\\newcommand{\\mat}[1]{\\bar{\\bar{#1}}}\n",
    " \\newcommand{\\command}[1]{\\text{#1}}$\n",
    "Convolutions will depend on the shape of the kernel. Kernels can be $(K\\times K)$, $(1\\times K)$, $(K \\times 1)$, $(K)$, $((1))$, $(1)$ or scalar. They are convolved with are $N$-dimensional vectors, where there are $K$ populations and $\\sum_{i=1}^K N_i = N$.\n",
    "\n",
    "For illustration here we set $K = 2$, $N_1 = 500$ and $N_2 = 100$. Let $I_1 \\equiv \\{1, \\dotsc, 500\\}$ and $I_2 \\equiv \\{501, \\dotsc, 600\\}$."
   ]
  },
  {
   "cell_type": "markdown",
   "metadata": {},
   "source": [
    "## 2x2 kernel\n",
    "\n",
    "$$\\begin{gather}\n",
    "κ = \\begin{bmatrix} κ_{11} & κ_{12} \\\\ κ_{21} & κ_{22} \\end{bmatrix} &\n",
    "\\mat{S} = \\begin{bmatrix}\n",
    "\\vec{s}_1 \\\\ \\vdots \\\\ \\vec{s}_{500} \\\\ \\vec{s}_{501} \\\\ \\vdots \\\\ \\vec{s}_{600}\n",
    "\\end{bmatrix}\n",
    "\\end{gather}$$\n",
    "\n",
    "($\\mat{S}$ is really a collection of vectors, as each $\\vec{s}_i$ may be of different length.)\n",
    "\n",
    "$$\\begin{align}\n",
    "(κ * \\mat{S})(t) &= \\begin{bmatrix}\n",
    "\\sum_{i \\in I_1} \\sum_{s \\in \\vec{s}_i} κ_{11}(t-s) & \\sum_{i \\in I_2} \\sum_{s \\in \\vec{s}_i} κ_{12}(t-s) \\\\\n",
    "\\sum_{i \\in I_1} \\sum_{s \\in \\vec{s}_i} κ_{21}(t-s) & \\sum_{i \\in I_2} \\sum_{s \\in \\vec{s}_i} κ_{22}(t-s)\n",
    "\\end{bmatrix} \\\\\n",
    "%\n",
    "(κ * \\mat{S})(t) &= \\command{stack}( \\,\\underbrace{\\command{sum}( \\underbrace{\\,κ_{: j}(t-s)}_{2D \\text{ vector}} \\; \\command{for} \\;\\vec{s} \\,\\command{in}\\, \\mat{S}_{I_j} \\;\\command{for} \\; s \\;\\command{in} \\;\\vec{s} )}_{j\\text{-th column}} \\;\\command{for}\\; j \\; \\command{in} \\; \\command{range}(K) )^\\intercal\n",
    "\\end{align}$$\n",
    "\n",
    "The result of this operation is a $(2\\times2)$ matrix.\n",
    "\n",
    "The pseudocode computes each column in one call and stacks them. Thus the result needs to be transposed to have the expected `[from idx][to idx]` indexing."
   ]
  },
  {
   "cell_type": "markdown",
   "metadata": {},
   "source": [
    "## (2,) kernel\n",
    "\n",
    "$$\\begin{gather}\n",
    "κ = \\begin{bmatrix} κ_{1} \\\\ κ_{2} \\end{bmatrix} &\n",
    "\\mat{S} = \\begin{bmatrix}\n",
    "\\vec{s}_1 \\\\ \\vdots \\\\ \\vec{s}_{500} \\\\ \\vec{s}_{501} \\\\ \\vdots \\\\ \\vec{s}_{600}\n",
    "\\end{bmatrix}\n",
    "\\end{gather}$$\n",
    "\n",
    "$$\\begin{align}\n",
    "(κ * \\mat{S})(t) &= \\begin{bmatrix}\n",
    "\\sum_{s \\in \\vec{s}_1} κ_{1}(t-s) \\\\ \\vdots \\\\ \n",
    "\\sum_{s \\in \\vec{s}_{500}} κ_{1}(t-s)  \\\\ \n",
    "\\sum_{s \\in \\vec{s}_{501}} κ_{1}(t-s) \\\\ \\vdots \\\\ \n",
    "\\sum_{s \\in \\vec{s}_{600}} κ_{1}(t-s)\n",
    "\\end{bmatrix} \\\\\n",
    "%\n",
    "(κ * \\mat{S})(t) &= \\command{concatenate}( [\\command{stack}( \\command{sum}(κ_i(t-s) \\;\\command{for}\\; s \\;\\command{in}\\; \\vec{s}_i) \\;\\command{for}\\; i \\;\\command{in}\\; I_j ) \\;\\command{for}\\; j \\;\\command{in}\\; \\command{range}(K)] )\n",
    "\\end{align}$$\n",
    "\n",
    "The result of this operation is an $(N,)$ vector."
   ]
  },
  {
   "cell_type": "markdown",
   "metadata": {},
   "source": [
    "# Implementation"
   ]
  },
  {
   "cell_type": "code",
   "execution_count": 9,
   "metadata": {
    "collapsed": true
   },
   "outputs": [],
   "source": [
    "def f(Δt, from_idx=slice(None,None)):\n",
    "    return np.array([[0.1, 1],\n",
    "                     [-1,  2]])[:, from_idx] * np.exp(-Δt/0.1)\n",
    "\n",
    "spike_times = [[0.1, 0.5, 1, 4, 8],\n",
    "               [0.3, 5],\n",
    "               [4, 9, 9.1, 9.2, 9.3, 9.4],\n",
    "               [2, 3, 4, 5, 6, 7, 8],\n",
    "               [3, 8, 12]]\n",
    "pop_slices = [slice(0,3), slice(3,5)]\n",
    "t = 9"
   ]
  },
  {
   "cell_type": "markdown",
   "metadata": {},
   "source": [
    "## 2x2 kernel"
   ]
  },
  {
   "cell_type": "code",
   "execution_count": 7,
   "metadata": {
    "collapsed": false
   },
   "outputs": [
    {
     "data": {
      "text/plain": [
       "array([[  8.57910703e+00,   1.06864746e+13],\n",
       "       [ -8.57910703e+01,   2.13729492e+13]])"
      ]
     },
     "execution_count": 7,
     "metadata": {},
     "output_type": "execute_result"
    }
   ],
   "source": [
    "np.stack (\n",
    "     np.sum( f(t-s, from_pop_idx)\n",
    "             for spike_list in spike_times[pop_slices[from_pop_idx]]\n",
    "             for s in spike_list )\n",
    "     for from_pop_idx in range(len(pop_slices)) ).T\n",
    "    # We don't need to specify an axis in the sum, because the sum is over distinct\n",
    "    # arrays f(.,.), and so np.sum sums the arrays but doesn't flatten them."
   ]
  },
  {
   "cell_type": "code",
   "execution_count": 15,
   "metadata": {
    "collapsed": false
   },
   "outputs": [
    {
     "name": "stdout",
     "output_type": "stream",
     "text": [
      "[[(1, 1) (1, 2)]\n",
      " [(2, 1) (2, 2)]]\n",
      "[[  8.57910703e+00   1.06864746e+13]\n",
      " [ -8.57910703e+01   2.13729492e+13]]\n"
     ]
    }
   ],
   "source": [
    "# Confirmation\n",
    "Aidcs, A = np.empty((2,2), dtype='object'), np.zeros((2,2))\n",
    "for i in range(2):\n",
    "    for j in range(2):\n",
    "        Aidcs[i,j] = (i+1,j+1)\n",
    "        A[i,j] = np.sum( f(t-s)[i,j] for spike_list in spike_times[pop_slices[j]] for s in spike_list )\n",
    "        \n",
    "print(Aidcs)\n",
    "print(A)"
   ]
  },
  {
   "cell_type": "markdown",
   "metadata": {},
   "source": [
    "## (2,) kernel"
   ]
  },
  {
   "cell_type": "code",
   "execution_count": null,
   "metadata": {
    "collapsed": true
   },
   "outputs": [],
   "source": []
  }
 ],
 "metadata": {
  "kernelspec": {
   "display_name": "Python (mackelab)",
   "language": "python",
   "name": "mackelab"
  },
  "language_info": {
   "codemirror_mode": {
    "name": "ipython",
    "version": 3
   },
   "file_extension": ".py",
   "mimetype": "text/x-python",
   "name": "python",
   "nbconvert_exporter": "python",
   "pygments_lexer": "ipython3",
   "version": "3.5.2"
  },
  "latex_envs": {
   "LaTeX_envs_menu_present": true,
   "bibliofile": "biblio.bib",
   "cite_by": "apalike",
   "current_citInitial": 1,
   "eqLabelWithNumbers": true,
   "eqNumInitial": 1,
   "labels_anchors": false,
   "latex_user_defs": false,
   "report_style_numbering": false,
   "user_envs_cfg": false
  }
 },
 "nbformat": 4,
 "nbformat_minor": 0
}
